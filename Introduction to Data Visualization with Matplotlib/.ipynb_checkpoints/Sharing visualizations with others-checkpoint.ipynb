{
 "cells": [
  {
   "cell_type": "code",
   "execution_count": null,
   "id": "97861865-2216-450e-b376-2cb9797882f5",
   "metadata": {},
   "outputs": [],
   "source": [
    "import matplotlib.pyplot as plt \n",
    "fig, ax = plt.subplots() \n",
    "ax.plot(seattle_weather[\"MONTH\"], seattle_weather[\"MLY-TAVG-NORMAL\"]) \n",
    "ax.plot(austin_weather[\"MONTH\"], austin_weather[\"MLY-TAVG-NORMAL\"]) \n",
    "ax.set_xlabel(\"Time (months)\") \n",
    "ax.set_ylabel(\"Average temperature (Fahrenheit degrees)\") \n",
    "plt.show()"
   ]
  },
  {
   "cell_type": "code",
   "execution_count": null,
   "id": "b35857fa-f303-47f8-b2ea-a53b7507a441",
   "metadata": {},
   "outputs": [],
   "source": [
    "plt.style.use(\"ggplot\") \n",
    "fig, ax = plt.subplots() \n",
    "ax.plot(seattle_weather[\"MONTH\"], seattle_weather[\"MLY-TAVG-NORMAL\"]) \n",
    "ax.plot(austin_weather[\"MONTH\"], austin_weather[\"MLY-TAVG-NORMAL\"]) \n",
    "ax.set_xlabel(\"Time (months)\") \n",
    "ax.set_ylabel(\"Average temperature (Fahrenheit degrees)\") \n",
    "plt.show()\n"
   ]
  },
  {
   "cell_type": "code",
   "execution_count": null,
   "id": "047d11d0-d47b-4d60-aea7-3463e7d24028",
   "metadata": {},
   "outputs": [],
   "source": [
    "plt.style.use(\"default\") \n",
    "fig, ax = plt.subplots() \n",
    "ax.plot(seattle_weather[\"MONTH\"], seattle_weather[\"MLY-TAVG-NORMAL\"]) \n",
    "ax.plot(austin_weather[\"MONTH\"], austin_weather[\"MLY-TAVG-NORMAL\"]) \n",
    "ax.set_xlabel(\"Time (months)\") \n",
    "ax.set_ylabel(\"Average temperature (Fahrenheit degrees)\") \n",
    "plt.show()"
   ]
  },
  {
   "cell_type": "code",
   "execution_count": null,
   "id": "68eaabcc-c0aa-4164-9c01-bd5c8bebb1ab",
   "metadata": {},
   "outputs": [],
   "source": [
    "plt.style.use(\"bmh\") \n",
    "fig, ax = plt.subplots() \n",
    "ax.plot(seattle_weather[\"MONTH\"], seattle_weather[\"MLY-TAVG-NORMAL\"]) \n",
    "ax.plot(austin_weather[\"MONTH\"], austin_weather[\"MLY-TAVG-NORMAL\"]) \n",
    "ax.set_xlabel(\"Time (months)\") \n",
    "ax.set_ylabel(\"Average temperature (Fahrenheit degrees)\") \n",
    "plt.show()\n"
   ]
  },
  {
   "cell_type": "code",
   "execution_count": null,
   "id": "0269e1e1-d16a-427c-88ca-8e64f52c8a33",
   "metadata": {},
   "outputs": [],
   "source": [
    "plt.style.use(\"seaborn-colorblind\") \n",
    "fig, ax = plt.subplots() \n",
    "ax.plot(seattle_weather[\"MONTH\"], seattle_weather[\"MLY-TAVG-NORMAL\"]) \n",
    "ax.plot(austin_weather[\"MONTH\"], austin_weather[\"MLY-TAVG-NORMAL\"]) \n",
    "ax.set_xlabel(\"Time (months)\") \n",
    "ax.set_ylabel(\"Average temperature (Fahrenheit degrees)\") \n",
    "plt.show()"
   ]
  },
  {
   "cell_type": "code",
   "execution_count": null,
   "id": "172f6e3e-bf16-4a9a-913d-49d2ac892aee",
   "metadata": {},
   "outputs": [],
   "source": [
    "fig, ax = plt.subplots() \n",
    "\n",
    "ax.bar(medals.index, medals[\"Gold\"])\n",
    "ax.set_xticklabels(medals.index, rotation=90) \n",
    "ax.set_ylabel(\"Number of medals\") \n",
    "\n",
    "plt.show() "
   ]
  },
  {
   "cell_type": "code",
   "execution_count": null,
   "id": "6c4ba17c-af05-43f0-907e-ef7121dfede9",
   "metadata": {},
   "outputs": [],
   "source": [
    "fig, ax = plt.subplots() \n",
    "\n",
    "ax.bar(medals.index, medals[\"Gold\"])\n",
    "ax.set_xticklabels(medals.index, rotation=90) \n",
    "ax.set_ylabel(\"Number of medals\") \n",
    "\n",
    "fig.savefig(\"gold_medals.png\") \n"
   ]
  },
  {
   "cell_type": "code",
   "execution_count": null,
   "id": "e3829b75-a5c1-49fd-bdf0-f62eeaacd211",
   "metadata": {},
   "outputs": [],
   "source": [
    "fig, ax = plt.subplots() \n",
    "\n",
    "ax.bar(medals.index, medals[\"Gold\"])\n",
    "ax.set_xticklabels(medals.index, rotation=90) \n",
    "ax.set_ylabel(\"Number of medals\") \n",
    "\n",
    "fig.savefig(\"gold_medals.jpg\") \n",
    "fig.savefig(\"gold_medals.jpg\", quality=50) "
   ]
  },
  {
   "cell_type": "code",
   "execution_count": null,
   "id": "80fc68eb-9f2a-4b21-bc74-9ece63653dce",
   "metadata": {},
   "outputs": [],
   "source": [
    "fig, ax = plt.subplots() \n",
    "\n",
    "ax.bar(medals.index, medals[\"Gold\"])\n",
    "ax.set_xticklabels(medals.index, rotation=90) \n",
    "ax.set_ylabel(\"Number of medals\") \n",
    "\n",
    "fig.savefig(\"gold_medals.svg\") "
   ]
  },
  {
   "cell_type": "code",
   "execution_count": null,
   "id": "0eee5060-c6b6-4fbd-8bc1-b4bfe40d68e7",
   "metadata": {},
   "outputs": [],
   "source": [
    "fig, ax = plt.subplots() \n",
    "\n",
    "ax.bar(medals.index, medals[\"Gold\"])\n",
    "ax.set_xticklabels(medals.index, rotation=90) \n",
    "ax.set_ylabel(\"Number of medals\") \n",
    "fig.set_size_inches([5,3]) \n",
    "\n",
    "fig.savefig(\"gold_medals.jpg\", dpi=300) "
   ]
  },
  {
   "cell_type": "code",
   "execution_count": null,
   "id": "83736487-e19c-455c-b1c8-d17dde3f3d29",
   "metadata": {},
   "outputs": [],
   "source": [
    "sports = summer_2016_medals[\"Sport\"].unique() \n",
    "print(sports) "
   ]
  },
  {
   "cell_type": "code",
   "execution_count": null,
   "id": "d68e51d9-3d04-49dc-8e0c-c126543f38bd",
   "metadata": {},
   "outputs": [],
   "source": [
    "fig, ax = plt.subplts() \n",
    "\n",
    "for sport in sports: \n",
    "    spord_df = summer_2016_medals[summer_2016_medals[\"Sport\"] == sport] \n",
    "    ax.bar(sport, sport_df[\"Height\"].mean(), \n",
    "           yerr=sport_df[\"Height\"].std())\n",
    "ax.set_ylabel(\"Height (cm)\")\n",
    "ax.set_xticklabels(sports, rotation=90)\n",
    "plt.show()\n",
    "    "
   ]
  }
 ],
 "metadata": {
  "kernelspec": {
   "display_name": "Python 3 (ipykernel)",
   "language": "python",
   "name": "python3"
  },
  "language_info": {
   "codemirror_mode": {
    "name": "ipython",
    "version": 3
   },
   "file_extension": ".py",
   "mimetype": "text/x-python",
   "name": "python",
   "nbconvert_exporter": "python",
   "pygments_lexer": "ipython3",
   "version": "3.13.1"
  }
 },
 "nbformat": 4,
 "nbformat_minor": 5
}
