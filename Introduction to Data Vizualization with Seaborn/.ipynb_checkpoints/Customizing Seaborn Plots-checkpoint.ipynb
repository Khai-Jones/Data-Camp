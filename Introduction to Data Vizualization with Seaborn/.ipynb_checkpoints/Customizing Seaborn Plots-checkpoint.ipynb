{
 "cells": [
  {
   "cell_type": "code",
   "execution_count": null,
   "id": "8ec99144-c91b-4a6a-bce6-5389af981eeb",
   "metadata": {},
   "outputs": [],
   "source": [
    "# whitegrid, ticks, dark, darkgrid, custom_palette\n",
    "sns.set_style(\"whitegrid\") \n",
    "sns.set_palette(\"RdBu\") \n",
    "sns.set_context(\"talk\") \n",
    "\n",
    "sns.catplot(x=\"age\", \n",
    "                    y=\"masculinity_important\",\n",
    "                    data=masculinity_data,\n",
    "                    hue=\"feel_masculine\",\n",
    "                    kind=\"point\")\n",
    "\n",
    "plt.show() "
   ]
  },
  {
   "cell_type": "code",
   "execution_count": null,
   "id": "f556d55f-3b51-4b5c-9e01-d7dc70503205",
   "metadata": {},
   "outputs": [],
   "source": [
    "g = sns.scatterplot(x=\"height\", y=\"weight\", data=df) \n",
    "\n",
    "g.fig.suptitle(\"New Title\",\n",
    "                        y = 1.03) \n",
    "g.set_title(\"This is {col_name)\") \n",
    "\n",
    "g.set(xlabel=\"New X Label\", \n",
    "         ylabel=\"New Y Label\") \n",
    "\n",
    "plt.xticks(rotation=90)"
   ]
  },
  {
   "cell_type": "code",
   "execution_count": null,
   "id": "b627b286-edc7-41fa-bde4-78cb51bb21e1",
   "metadata": {},
   "outputs": [],
   "source": []
  },
  {
   "cell_type": "code",
   "execution_count": null,
   "id": "7ca0df47-ce52-490f-8bc2-334ccfb411e6",
   "metadata": {},
   "outputs": [],
   "source": []
  }
 ],
 "metadata": {
  "kernelspec": {
   "display_name": "Python 3 (ipykernel)",
   "language": "python",
   "name": "python3"
  },
  "language_info": {
   "codemirror_mode": {
    "name": "ipython",
    "version": 3
   },
   "file_extension": ".py",
   "mimetype": "text/x-python",
   "name": "python",
   "nbconvert_exporter": "python",
   "pygments_lexer": "ipython3",
   "version": "3.13.1"
  }
 },
 "nbformat": 4,
 "nbformat_minor": 5
}
