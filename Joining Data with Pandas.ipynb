{
 "cells": [
  {
   "cell_type": "code",
   "execution_count": null,
   "id": "91910046-1004-4411-822a-21171fb266e1",
   "metadata": {},
   "outputs": [],
   "source": []
  }
 ],
 "metadata": {
  "kernelspec": {
   "display_name": "",
   "name": ""
  },
  "language_info": {
   "name": ""
  }
 },
 "nbformat": 4,
 "nbformat_minor": 5
}
