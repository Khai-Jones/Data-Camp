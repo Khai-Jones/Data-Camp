{
 "cells": [
  {
   "cell_type": "code",
   "execution_count": 10,
   "id": "fba10493-090b-4b4b-abdb-9f92a67353b8",
   "metadata": {},
   "outputs": [],
   "source": [
    "import pandas as pd \n",
    "import numpy as np \n",
    "import matplotlib.pyplot as plt \n",
    "\n",
    "# Adjust Pandas display settings\n",
    "pd.set_option('display.max_colwidth', None)\n",
    "pd.set_option('display.width', 1000)\n",
    "pd.set_option('display.colheader_justify', 'center')"
   ]
  },
  {
   "cell_type": "markdown",
   "id": "39917d68-ed23-4b5b-b520-1384a440c5a6",
   "metadata": {},
   "source": [
    "# Inner  Join \n",
    "\n",
    "\n",
    "Datasets for example\n",
    "\n",
    "The city of Chicago is ivided into fifty local neighbordooids called wards. We have table with data about the local goernment offices in each ward. In this example, we want to merge the local government data with census data about the popultaion of each ward. \n",
    "\n"
   ]
  },
  {
   "cell_type": "markdown",
   "id": "eb99947d-ce6b-4a91-a438-9d4420b96bce",
   "metadata": {},
   "source": [
    "### The ward data"
   ]
  },
  {
   "cell_type": "code",
   "execution_count": 11,
   "id": "2660d92d-27a6-420b-a286-e6b01eb3df7f",
   "metadata": {},
   "outputs": [
    {
     "name": "stdout",
     "output_type": "stream",
     "text": [
      "  ward       alderman                  address               zip  \n",
      "0   1   Proco \"Joe\" Moreno        2058 NORTH WESTERN AVENUE  60647\n",
      "1   2        Brian Hopkins       1400 NORTH  ASHLAND AVENUE  60622\n",
      "2   3           Pat Dowell          5046 SOUTH STATE STREET  60609\n",
      "3   4     William D. Burns  435 EAST 35TH STREET, 1ST FLOOR  60616\n",
      "4   5   Leslie A. Hairston            2325 EAST 71ST STREET  60649\n",
      "(50, 4)\n"
     ]
    }
   ],
   "source": [
    "# Load the .p file \n",
    "ward_data = pd.read_pickle(\"/home/khaijones/Data-Camp/Merging with Pandas Data Sets/ward.p\")\n",
    "\n",
    "# Print the DataFrame\n",
    "print(ward_data.head())\n",
    "print(ward_data.shape)"
   ]
  },
  {
   "cell_type": "markdown",
   "id": "1a491d52-02d1-4722-a62c-d0df0ab56e3d",
   "metadata": {},
   "source": [
    "This table has 3519 rows and 5 columns"
   ]
  },
  {
   "cell_type": "code",
   "execution_count": null,
   "id": "61b34a65-addf-445e-bdcc-7e89158f0dcc",
   "metadata": {},
   "outputs": [],
   "source": []
  },
  {
   "cell_type": "code",
   "execution_count": null,
   "id": "f362b10c-092a-4054-a02f-eb2c7158849f",
   "metadata": {},
   "outputs": [],
   "source": []
  }
 ],
 "metadata": {
  "kernelspec": {
   "display_name": "Python 3 (ipykernel)",
   "language": "python",
   "name": "python3"
  },
  "language_info": {
   "codemirror_mode": {
    "name": "ipython",
    "version": 3
   },
   "file_extension": ".py",
   "mimetype": "text/x-python",
   "name": "python",
   "nbconvert_exporter": "python",
   "pygments_lexer": "ipython3",
   "version": "3.13.0"
  }
 },
 "nbformat": 4,
 "nbformat_minor": 5
}
