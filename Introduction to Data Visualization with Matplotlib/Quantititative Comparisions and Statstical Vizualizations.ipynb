{
 "cells": [
  {
   "cell_type": "code",
   "execution_count": null,
   "id": "b91bf377-2a80-41a3-babb-3b0b2980c497",
   "metadata": {},
   "outputs": [],
   "source": [
    "fig, ax = plt.subplots()\n",
    "ax.hist(mens_rowing[\"Height\"]) \n",
    "ax.hist(mens_gymastics[\"Height\"])\n",
    "ax.set_xlabel(\"Height (cm)\")\n",
    "ax.set_ylabel(\"# of observations\") \n",
    "plt.show() "
   ]
  },
  {
   "cell_type": "code",
   "execution_count": null,
   "id": "a47a6d0a-49df-4070-a4ff-2ea3f022749c",
   "metadata": {},
   "outputs": [],
   "source": [
    "ax.hist(mens_rowing[\"Height\"], label=\"Rowing\") \n",
    "ax.hist(mens_gymastics[\"Height\"], label=\"Gymnastics\")\n",
    "ax.set_xlabel(\"Height (cm)\")\n",
    "ax.set_ylabel(\"# of observations\") \n",
    "ax.legend()\n",
    "plt.show() "
   ]
  },
  {
   "cell_type": "code",
   "execution_count": null,
   "id": "b0f15929-93a9-4467-b3dd-6e1df585efd2",
   "metadata": {},
   "outputs": [],
   "source": [
    "ax.hist(mens_rowing[\"Height\"], label=\"Rowing\", bins=5 ) \n",
    "ax.hist(mens_gymastics[\"Height\"], label=\"Gymnastics\", bins=5)\n",
    "ax.set_xlabel(\"Height (cm)\")\n",
    "ax.set_ylabel(\"# of observations\") \n",
    "ax.legend()\n",
    "plt.show() "
   ]
  },
  {
   "cell_type": "code",
   "execution_count": null,
   "id": "c812da56-4277-4149-9dfc-5377fa5c3b64",
   "metadata": {},
   "outputs": [],
   "source": [
    "ax.hist(mens_rowing[\"Height\"], label=\"Rowing\", \n",
    "            bins=[150, 160, 170, 180, 190, 200, 210] ) \n",
    "ax.hist(mens_gymastics[\"Height\"], label=\"Gymnastics\", \n",
    "            bins=[150, 160, 170, 180, 190, 200, 210] )\n",
    "ax.set_xlabel(\"Height (cm)\")\n",
    "ax.set_ylabel(\"# of observations\") \n",
    "ax.legend()\n",
    "plt.show() "
   ]
  },
  {
   "cell_type": "code",
   "execution_count": null,
   "id": "19135238-95a6-4756-8237-d3dca7ff33dc",
   "metadata": {},
   "outputs": [],
   "source": [
    "ax.hist(mens_rowing[\"Height\"], label=\"Rowing\", \n",
    "            bins=[150, 160, 170, 180, 190, 200, 210],\n",
    "           histtype=\"step\") \n",
    "\n",
    "ax.hist(mens_gymastics[\"Height\"], label=\"Gymnastics\", \n",
    "            bins=[150, 160, 170, 180, 190, 200, 210],\n",
    "            histtype=\"step\")\n",
    "ax.set_xlabel(\"Height (cm)\")\n",
    "ax.set_ylabel(\"# of observations\") \n",
    "ax.legend()\n",
    "plt.show() "
   ]
  },
  {
   "cell_type": "code",
   "execution_count": null,
   "id": "c221f25a-7334-4347-8b47-82c614387ad4",
   "metadata": {},
   "outputs": [],
   "source": [
    "fig, ax = subplots() \n",
    "\n",
    "ax.bar(\"Rowing\", \n",
    "           mens_rowing[\"Height\"].mean(), \n",
    "           yerr=mens_rowing[\"Height\"].std()) \n",
    "\n",
    "ax.bar(\"Gymanstics\", \n",
    "            mens_gymanstics[\"Height\"].mean(), \n",
    "            yerr=mens_gymanstics[\"Height\"].std()) \n",
    "\n",
    "ax.set_ylabel(\"Height (cm)\")\n",
    "\n",
    "plt.show()"
   ]
  },
  {
   "cell_type": "code",
   "execution_count": null,
   "id": "539e73d8-30cd-4be7-8b65-6a7f9cf4deb0",
   "metadata": {},
   "outputs": [],
   "source": [
    "fig, ax = plt.subplots() \n",
    "\n",
    "ax.errorbar(seattle_weather[\"MONTH\"], \n",
    "                        seattle_weather[\"MLY-TAVG-NORMAL\"], \n",
    "                        yerr=seattle_weather[\"MLY-TAVG-STDDEV\"]) \n",
    "\n",
    "\n",
    "\n",
    "ax.errorbar(austin_weather[\"MONTH\"], \n",
    "                        austin_weather[\"MLY-TAVG-NORMAL\"], \n",
    "                        yerr=austin_weather[\"MLY-TAVG-STDDEV\"]) \n",
    "\n",
    "ax.set_ylabel(\"Temperature (Fahrenheit)\") \n",
    "\n",
    "plt.show() "
   ]
  },
  {
   "cell_type": "code",
   "execution_count": null,
   "id": "14fe19bd-4758-4481-ae47-e3e0aac73acd",
   "metadata": {},
   "outputs": [],
   "source": [
    "fig, ax = plt.subplots() \n",
    "\n",
    "ax.boxplot([mens_rowing[\"Height\"],\n",
    "                    mens_gymnastics[\"Height\"]]) \n",
    "\n",
    "ax.set_xticklabels([\"Rowing\", \"Gymnastics\"])\n",
    "ax.set_ylabel(\"Height (cm)\") \n",
    "\n",
    "plt.show()"
   ]
  },
  {
   "cell_type": "code",
   "execution_count": null,
   "id": "a5552c67-e4d7-4f15-8216-29d9fec72f70",
   "metadata": {},
   "outputs": [],
   "source": [
    "fig, ax = plt.subplots()\n",
    "ax.scatter(climate_change[\"co2\"], climate_change[\"relative_temp\"]) \n",
    "ax.set_xlabel(\"C02 (ppm)\") \n",
    "ax.set_ylabel(\"Relative temperature (Celsius)\") \n",
    "\n",
    "plt.show()"
   ]
  },
  {
   "cell_type": "code",
   "execution_count": null,
   "id": "e1729ef6-2b5e-464d-acf2-bb6ec8f595e3",
   "metadata": {},
   "outputs": [],
   "source": [
    "eighties = climate_change[\"1980-01-01\":\"1989-12-31\"]\n",
    "nineties = climate_change[\"1990-01-01\":\"1999-12-31\"]\n",
    "fig, ax = plt.subplots() \n",
    "\n",
    "ax.scatter(eighties[\"co2\", eighties[\"relative_temp\"], \n",
    "                   color=\"red\", label=\"eighties\") \n",
    "\n",
    "ax.scatter(nineties[\"co2\"], nineties[\"realtive_temp\"], \n",
    "                  color=\"blue\", label=\"nineties\") \n",
    "\n",
    "ax.legend() \n",
    "\n",
    "ax.set_xlabel(\"C02 (ppm)\") \n",
    "ax.set_ylabel(\"Relative temperature (Celsius)\") \n",
    "\n",
    "plt.show()"
   ]
  },
  {
   "cell_type": "code",
   "execution_count": null,
   "id": "8cd4072a-b722-4741-8c73-463ef8fd27da",
   "metadata": {},
   "outputs": [],
   "source": [
    "fig, ax = plt.subplots()\n",
    "ax.scatter(climate_change[\"co2\", climate_change[\"relative_temp\"], \n",
    "                   c=climate_change.index) \n",
    "\n",
    "ax.set_xlabel(\"C02 (ppm)\")\n",
    "ax.set_ylabel(\"Relative temperature (Celsius)\") \n",
    "plt.show()"
   ]
  },
  {
   "cell_type": "code",
   "execution_count": null,
   "id": "11f6894f-9010-4daa-811c-28a954962d63",
   "metadata": {},
   "outputs": [],
   "source": []
  }
 ],
 "metadata": {
  "kernelspec": {
   "display_name": "Python 3 (ipykernel)",
   "language": "python",
   "name": "python3"
  },
  "language_info": {
   "codemirror_mode": {
    "name": "ipython",
    "version": 3
   },
   "file_extension": ".py",
   "mimetype": "text/x-python",
   "name": "python",
   "nbconvert_exporter": "python",
   "pygments_lexer": "ipython3",
   "version": "3.13.1"
  }
 },
 "nbformat": 4,
 "nbformat_minor": 5
}
